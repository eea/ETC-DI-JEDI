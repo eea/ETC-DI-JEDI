{
 "cells": [
  {
   "cell_type": "markdown",
   "metadata": {},
   "source": [
    "# Pre-processing of GDMP 100m time-series  raster dataset for the uploaded to JEDI\n",
    "\n",
    "The following notbooks set up to help raster-data-processing for the uploaded to JEDI\n",
    "https://jedi.discomap.eea.europa.eu/Search\n",
    "\n",
    "Requirements for raster upload to JEDI: \n",
    "- pixel sizes in (10m, 100, 1000m or 10 000m) \n",
    "- projection: LAEA -EPSG3035 \n",
    "- datatype: INT8,UINT8,INT16 ant UINT16.\n",
    "- pixel nbit proberty:  NO nbits--> remove NBITS \n",
    "- Compression:  -co COMPRESS=JPEG -co TILED=YES\n",
    "- format: *.tif\n",
    "\n",
    "\n",
    "Every raster in the zip will be added as an attribute to the dimension.\n",
    "You can exclude values inside the JEDI website under the field options. Provide a value seperated list of all values you wish to exclude.\n",
    "The exclude will only work for INT8,UINT8,INT16 ant UINT16.\n",
    "\n",
    "So, there is a workaround in place:\n",
    "1. Create a zip with the same tifs but these must be clipped to a small area.\n",
    "This way the uploaded zip is small but enough to populate the schema in the db.\n",
    "2. When the dim is created (but not completed) send us the path to the real zip file and we will take care of it\n",
    "\n"
   ]
  },
  {
   "cell_type": "markdown",
   "metadata": {},
   "source": [
    "## (Tool 1 -A) small subset to prepare the jedi upload *using a small clip\n",
    "\n",
    "\n",
    "L:\\f02_data\\GDMP\\input\\GDMP_100m"
   ]
  },
  {
   "cell_type": "code",
   "execution_count": 2,
   "metadata": {},
   "outputs": [
    {
     "ename": "ModuleNotFoundError",
     "evalue": "No module named 'geopandas'",
     "output_type": "error",
     "traceback": [
      "\u001b[1;31m---------------------------------------------------------------------------\u001b[0m",
      "\u001b[1;31mModuleNotFoundError\u001b[0m                       Traceback (most recent call last)",
      "\u001b[1;32mC:\\Users\\local_loehnertz\\Temp\\54\\ipykernel_22344\\478678844.py\u001b[0m in \u001b[0;36m<cell line: 18>\u001b[1;34m()\u001b[0m\n\u001b[0;32m     16\u001b[0m \u001b[0msys\u001b[0m\u001b[1;33m.\u001b[0m\u001b[0mpath\u001b[0m\u001b[1;33m.\u001b[0m\u001b[0mappend\u001b[0m\u001b[1;33m(\u001b[0m\u001b[0mPath\u001b[0m\u001b[1;33m(\u001b[0m\u001b[0mos\u001b[0m\u001b[1;33m.\u001b[0m\u001b[0mgetcwd\u001b[0m\u001b[1;33m(\u001b[0m\u001b[1;33m)\u001b[0m\u001b[1;33m)\u001b[0m\u001b[1;33m.\u001b[0m\u001b[0mparent\u001b[0m\u001b[1;33m.\u001b[0m\u001b[0mjoinpath\u001b[0m\u001b[1;33m(\u001b[0m\u001b[1;34m'src'\u001b[0m\u001b[1;33m)\u001b[0m\u001b[1;33m.\u001b[0m\u001b[0mas_posix\u001b[0m\u001b[1;33m(\u001b[0m\u001b[1;33m)\u001b[0m\u001b[1;33m)\u001b[0m\u001b[1;33m\u001b[0m\u001b[1;33m\u001b[0m\u001b[0m\n\u001b[0;32m     17\u001b[0m \u001b[0msys\u001b[0m\u001b[1;33m.\u001b[0m\u001b[0mpath\u001b[0m\u001b[1;33m.\u001b[0m\u001b[0mappend\u001b[0m\u001b[1;33m(\u001b[0m\u001b[0mPath\u001b[0m\u001b[1;33m(\u001b[0m\u001b[0mos\u001b[0m\u001b[1;33m.\u001b[0m\u001b[0mgetcwd\u001b[0m\u001b[1;33m(\u001b[0m\u001b[1;33m)\u001b[0m\u001b[1;33m)\u001b[0m\u001b[1;33m.\u001b[0m\u001b[0mjoinpath\u001b[0m\u001b[1;33m(\u001b[0m\u001b[1;34m'src'\u001b[0m\u001b[1;33m)\u001b[0m\u001b[1;33m.\u001b[0m\u001b[0mas_posix\u001b[0m\u001b[1;33m(\u001b[0m\u001b[1;33m)\u001b[0m\u001b[1;33m)\u001b[0m\u001b[1;33m\u001b[0m\u001b[1;33m\u001b[0m\u001b[0m\n\u001b[1;32m---> 18\u001b[1;33m \u001b[1;32mfrom\u001b[0m \u001b[0mconstants\u001b[0m \u001b[1;32mimport\u001b[0m \u001b[0mdir_signature\u001b[0m\u001b[1;33m\u001b[0m\u001b[1;33m\u001b[0m\u001b[0m\n\u001b[0m\u001b[0;32m     19\u001b[0m \u001b[1;33m\u001b[0m\u001b[0m\n\u001b[0;32m     20\u001b[0m \u001b[1;31m###################################################################################################################################### SET\u001b[0m\u001b[1;33m\u001b[0m\u001b[1;33m\u001b[0m\u001b[0m\n",
      "\u001b[1;32mC:\\Users/loehnertz/projects/ETC-DI-JEDI/src\\constants.py\u001b[0m in \u001b[0;36m<module>\u001b[1;34m\u001b[0m\n\u001b[0;32m      4\u001b[0m \u001b[1;33m\u001b[0m\u001b[0m\n\u001b[0;32m      5\u001b[0m \u001b[1;32mimport\u001b[0m \u001b[0mos\u001b[0m\u001b[1;33m\u001b[0m\u001b[1;33m\u001b[0m\u001b[0m\n\u001b[1;32m----> 6\u001b[1;33m \u001b[1;32mimport\u001b[0m \u001b[0mgeopandas\u001b[0m \u001b[1;32mas\u001b[0m \u001b[0mgpd\u001b[0m\u001b[1;33m\u001b[0m\u001b[1;33m\u001b[0m\u001b[0m\n\u001b[0m\u001b[0;32m      7\u001b[0m \u001b[1;32mfrom\u001b[0m \u001b[0mpathlib\u001b[0m \u001b[1;32mimport\u001b[0m \u001b[0mWindowsPath\u001b[0m\u001b[1;33m\u001b[0m\u001b[1;33m\u001b[0m\u001b[0m\n\u001b[0;32m      8\u001b[0m \u001b[1;33m\u001b[0m\u001b[0m\n",
      "\u001b[1;31mModuleNotFoundError\u001b[0m: No module named 'geopandas'"
     ]
    }
   ],
   "source": [
    "# tool1 layerstack to single band\n",
    "import os, sys \n",
    "import arcpy\n",
    "from arcpy.sa import *\n",
    "from pathlib import Path\n",
    "import os\n",
    "import sys\n",
    "from datetime import datetime\n",
    "import multiprocessing\n",
    "import glob\n",
    "import zipfile\n",
    "import shutil  ## for zipping\n",
    "\n",
    "#L:\\f02_data\\GDMP\\input\\GDMP_100m\n",
    "# set data folder\n",
    "sys.path.append(Path(os.getcwd()).parent.joinpath('src').as_posix())\n",
    "sys.path.append(Path(os.getcwd()).joinpath('src').as_posix())\n",
    "from constants import dir_signature\n",
    "\n",
    "###################################################################################################################################### SET\n",
    "base_path = os.path.join(dir_signature, 'GDMP')\n",
    "base_path_input = os.path.join(base_path, 'input','GDMP_100m') # , 'SOC_g_m2_90-21')   ###inputs\n",
    "#outzip = OutRas+'zip'\n",
    "\n",
    "\n",
    "zip_folder = r'L:\\f02_data\\GDMP\\output\\GDMP_100m_dask\\jedi\\gdmp_time_series'\n",
    "raster_folder_with_final_raster_datasets = r'L:\\f02_data\\GDMP\\input\\GDMP_1km\\v2'\n",
    "aoi_folder = r'L:\\f02_data\\GDMP\\input\\GDMP_100m\\aoi'\n",
    "aoi_folder_out =r'L:\\f02_data\\GDMP\\output\\GDMP_100m_dask\\jedi\\gdmp_time_series\\aoi'\n",
    "###############################################output info:Start \n",
    "pixel_type_info ='16_BIT_SIGNED'\n",
    "format_info = 'COG'\n",
    "NoData_info = -999\n",
    "###############################################output info:End\n",
    "\n",
    "# To allow overwriting outputs change overwriteOutput option to True.\n",
    "arcpy.env.overwriteOutput = True\n",
    "first_year = 1990  # to put the year into the raster name \n",
    "###################################################################################################################################### SET\n",
    "print (\"START.................\")\n",
    "\n",
    "\n",
    "arcpy.env.workspace = base_path_input\n",
    "rasterlist  = arcpy.ListRasters()\n",
    "# ... loop over all tif files in folder:\n",
    "for raster in rasterlist:\n",
    "        print (raster)\n",
    "        print (\"..will be updated and exoprted....\")\n",
    "        ## PART1 export raster with correct nuldata, pixel type and pixel size:####################\n",
    "        InRaster = raster\n",
    "        output_raster_name= raster_folder_with_final_raster_datasets+\"\\\\\"+raster.rsplit('.', maxsplit=1)[0]+'_v2.tif'\n",
    "        OutRaster = output_raster_name\n",
    "        arcpy.CopyRaster_management(InRaster,OutRaster,nodata_value = NoData_info,pixel_type=pixel_type_info,format=format_info)\n",
    "        ### zipping\n",
    "        outzip=zip_folder+\"\\\\\"+raster.rsplit('.', maxsplit=1)[0]+'.zip'\n",
    "        with zipfile.ZipFile(outzip, 'w') as f:#\n",
    "            f.write(output_raster_name, os.path.basename(output_raster_name))\n",
    "\n",
    "\n",
    "        print (\"..will be clipped and exoprted....\")\n",
    "        #print (output_raster_name)\n",
    "        ## PART2 export clip raster##################################################################\n",
    "        #aoi (luxembourg)\n",
    "        extent = \"3015500 2933800 4014700 4071300\"\n",
    "        InRaster = OutRaster\n",
    "        output_raster_name= aoi_folder+\"\\\\\"+raster.rsplit('.', maxsplit=1)[0]+'_clip.tif'\n",
    "        arcpy.Clip_management(InRaster, extent, output_raster_name)\n",
    "\n",
    "        ### zipping aoi\n",
    "        outzip=zip_folder+\"\\\\\"+raster.rsplit('.', maxsplit=1)[0]+'.zip'\n",
    "        with zipfile.ZipFile(outzip, 'w') as f:#\n",
    "            f.write(output_raster_name, os.path.basename(output_raster_name))\n",
    "        \n",
    "       #     raster = gdal.Open(raster.name)\n",
    "       #     bands = raster.RasterCount\n",
    "\n",
    "\n",
    "\n",
    "\n",
    "print (\"done\")"
   ]
  },
  {
   "cell_type": "code",
   "execution_count": null,
   "metadata": {},
   "outputs": [],
   "source": []
  },
  {
   "cell_type": "markdown",
   "metadata": {},
   "source": [
    "## (Tool 1 -B) FULL production of JEDI upload:"
   ]
  },
  {
   "cell_type": "code",
   "execution_count": null,
   "metadata": {},
   "outputs": [],
   "source": []
  }
 ],
 "metadata": {
  "kernelspec": {
   "display_name": "Python 3 (ipykernel)",
   "language": "python",
   "name": "python3"
  },
  "language_info": {
   "codemirror_mode": {
    "name": "ipython",
    "version": 3
   },
   "file_extension": ".py",
   "mimetype": "text/x-python",
   "name": "python",
   "nbconvert_exporter": "python",
   "pygments_lexer": "ipython3",
   "version": "3.9.16"
  }
 },
 "nbformat": 4,
 "nbformat_minor": 2
}
