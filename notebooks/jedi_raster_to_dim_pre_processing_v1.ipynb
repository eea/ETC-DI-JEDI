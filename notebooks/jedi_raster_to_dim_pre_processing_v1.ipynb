{
 "cells": [
  {
   "cell_type": "markdown",
   "metadata": {},
   "source": [
    "# Pre-processing of raster dataset for the uploaded to JEDI\n",
    "\n",
    "The following notbooks set up to help raster-data-processing for the uploaded to JEDI\n",
    "https://jedi.discomap.eea.europa.eu/Search\n",
    "\n",
    "Requirements for raster upload to JEDI: \n",
    "- pixel sizes in (10m, 100, 1000m or 10 000m) \n",
    "- projection: LAEA -EPSG3035 \n",
    "- datatype: 8 / 16 / 32 bit (int, float,..)\n",
    "- pixel nbit proberty:  NO nbits--> remove NBITS \n",
    "- Compression:  -co COMPRESS=JPEG -co TILED=YES\n",
    "- format: *.tif\n",
    "\n"
   ]
  },
  {
   "cell_type": "markdown",
   "metadata": {},
   "source": [
    "## (Tool 1) Layerstack (multiband raster) to single band raster / folder:"
   ]
  },
  {
   "cell_type": "code",
   "execution_count": 33,
   "metadata": {},
   "outputs": [
    {
     "name": "stdout",
     "output_type": "stream",
     "text": [
      "START.................\n",
      "\\\\cwsfileserver\\projects\\lulucf\\f02_data\\SOC_JRC\\input\\SOC_g_m2_90-21.tif\n",
      "['Band_1', 'Band_2', 'Band_3', 'Band_4', 'Band_5', 'Band_6', 'Band_7', 'Band_8', 'Band_9', 'Band_10', 'Band_11', 'Band_12', 'Band_13', 'Band_14', 'Band_15', 'Band_16', 'Band_17', 'Band_18', 'Band_19', 'Band_20', 'Band_21', 'Band_22', 'Band_23', 'Band_24', 'Band_25', 'Band_26', 'Band_27', 'Band_28', 'Band_29', 'Band_30', 'Band_31', 'Band_32']\n",
      "done\n"
     ]
    }
   ],
   "source": [
    "# tool1 layerstack to single band\n",
    "import os, sys \n",
    "import arcpy\n",
    "from arcpy.sa import *\n",
    "from pathlib import Path\n",
    "import os\n",
    "import sys\n",
    "from datetime import datetime\n",
    "import multiprocessing\n",
    "import glob\n",
    "import logging\n",
    "import zipfile\n",
    "import shutil  ## for zipping\n",
    "\n",
    "\n",
    "# set logging\n",
    "logger = logging.getLogger()\n",
    "logger.setLevel(logging.DEBUG)\n",
    "formatter = logging.Formatter('%(asctime)s - %(message)s')\n",
    "ch = logging.StreamHandler()\n",
    "ch.setLevel(logging.DEBUG)\n",
    "ch.setFormatter(formatter)\n",
    "logger.addHandler(ch)\n",
    "\n",
    "# set data folder\n",
    "sys.path.append(Path(os.getcwd()).parent.joinpath('src').as_posix())\n",
    "sys.path.append(Path(os.getcwd()).joinpath('src').as_posix())\n",
    "from constants import dir_signature\n",
    "\n",
    "###################################################################################################################################### SET\n",
    "base_path = os.path.join(dir_signature, 'SOC_JRC')\n",
    "base_path_input = os.path.join(base_path, 'input') # , 'SOC_g_m2_90-21')   ###inputs\n",
    "#outzip = OutRas+'zip'\n",
    "zip_folder = r'L:\\f02_data\\SOC_JRC\\output\\jedi'\n",
    "\n",
    "# To allow overwriting outputs change overwriteOutput option to True.\n",
    "arcpy.env.overwriteOutput = True\n",
    "first_year = 1990  # to put the year into the raster name \n",
    "###################################################################################################################################### SET\n",
    "print (\"START.................\")\n",
    "\n",
    "#InRaster = sys.argv[1] # like c:\\\\some\\\\path\\\\raster.ext\n",
    "InRaster = os.path.join(dir_signature, 'SOC_JRC', 'input', 'SOC_g_m2_90-21.tif')\n",
    "#InRaster = os.path.join(dir_signature, 'SOC_JRC', 'input', 'aoi','sog_jrc_inside_aoi.tif')  ##for testing\n",
    "\n",
    "\n",
    "print(InRaster)\n",
    "# get a list of the bands that make up the raster\n",
    "arcpy.env.workspace = InRaster\n",
    "bRng = arcpy.ListRasters()\n",
    "print (bRng)\n",
    "\n",
    "\n",
    "year = first_year\n",
    "for ThisBnd in bRng:\n",
    "#     # loop through the bands and export each one with CopyRaster\n",
    "    InBand  = '{}\\\\{}'.format(InRaster,ThisBnd)\n",
    "    bndDesc = arcpy.Describe(InBand)\n",
    "    NoData  = bndDesc.noDataValue \n",
    "    InSplit = os.path.splitext(InRaster) # split the image name and extension\n",
    "    # output file name is c:\\\\some\\\\path\\\\raster_Band_X.ext\n",
    "    band_name= str(year)\n",
    "    #OutRas  = '{}_{}{}'.format(InSplit[0],ThisBnd,InSplit[1])\n",
    "    OutRas  = '{}_{}{}'.format(InSplit[0],band_name,InSplit[1])\n",
    "    arcpy.CopyRaster_management(InBand,OutRas,nodata_value = NoData)\n",
    "\n",
    "\n",
    "    ## zip raster file:\n",
    "    head, tail = os.path.split(OutRas)\n",
    "    raster_name_with_extension = tail\n",
    "\n",
    "    outzip=raster_name_with_extension.rsplit('.', maxsplit=1)[0]+'.zip'\n",
    "\n",
    "\n",
    "    with zipfile.ZipFile(zip_folder+\"\\\\\"+outzip, 'w') as f:#\n",
    "        f.write(OutRas, os.path.basename(OutRas))\n",
    "\n",
    "    year = year+1\n",
    "\n",
    "#### next: zip all single zips again:\n",
    "\n",
    " #reading all zip files in zip folder:\n",
    " #https://note.nkmk.me/en/python-zipfile/\n",
    "#shutil.make_archive(zip_folder+'\\\\dim\\\\'+'DIM_SOC_JRC_2019_2021','zip',zip_folder)\n",
    "\n",
    "print (\"done\")"
   ]
  },
  {
   "cell_type": "code",
   "execution_count": 31,
   "metadata": {},
   "outputs": [
    {
     "data": {
      "text/plain": [
       "'L:\\\\f02_data\\\\SOC_JRC\\\\output\\\\jedi\\\\dim\\\\test.zip'"
      ]
     },
     "execution_count": 31,
     "metadata": {},
     "output_type": "execute_result"
    }
   ],
   "source": [
    "\n",
    "\n",
    "\n",
    "\n",
    "\n",
    "\n",
    "\n",
    "\n",
    "\n",
    "\n",
    "\n",
    "#print (OutRas)\n",
    "#head, tail = os.path.split(OutRas)\n",
    "#print(tail)\n"
   ]
  }
 ],
 "metadata": {
  "kernelspec": {
   "display_name": "Python 3",
   "language": "python",
   "name": "python3"
  },
  "language_info": {
   "codemirror_mode": {
    "name": "ipython",
    "version": 3
   },
   "file_extension": ".py",
   "mimetype": "text/x-python",
   "name": "python",
   "nbconvert_exporter": "python",
   "pygments_lexer": "ipython3",
   "version": "3.9.11"
  },
  "orig_nbformat": 4
 },
 "nbformat": 4,
 "nbformat_minor": 2
}
