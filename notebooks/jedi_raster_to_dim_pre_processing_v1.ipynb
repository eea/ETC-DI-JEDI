{
 "cells": [
  {
   "cell_type": "markdown",
   "metadata": {},
   "source": [
    "# Pre-processing of raster dataset for the uploaded to JEDI\n",
    "\n",
    "The following notbooks set up to help raster-data-processing for the uploaded to JEDI\n",
    "https://jedi.discomap.eea.europa.eu/Search\n",
    "\n",
    "<br>Requirements for raster upload to JEDI: <br>\n",
    "<br>////////////////////////////////////////<br>\n",
    "<br>pixel sizes in (10m, 100, 1000m or 10 000m) <br>\n",
    "<br> projection: LAEA -EPSG3035 <br>\n",
    "<br>datatype: 8 / 16 / 32 bit (int, float,..)<br>\n",
    "<br>pixel:  nbits <br>\n",
    "<br>Compression:  -co COMPRESS=JPEG -co TILED=YES<br>\n",
    "<br>format: *.tif<br>\n",
    "\n"
   ]
  },
  {
   "cell_type": "code",
   "execution_count": null,
   "metadata": {},
   "outputs": [],
   "source": [
    "import arcpy\n",
    "\n",
    "\n"
   ]
  }
 ],
 "metadata": {
  "language_info": {
   "name": "python"
  },
  "orig_nbformat": 4
 },
 "nbformat": 4,
 "nbformat_minor": 2
}
