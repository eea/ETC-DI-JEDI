{
 "cells": [
  {
   "cell_type": "markdown",
   "metadata": {},
   "source": [
    "# Pre-processing of IMP 100m  raster dataset for the uploaded to JEDI\n",
    "\n",
    "The following notbooks set up to help raster-data-processing for the uploaded to JEDI\n",
    "https://jedi.discomap.eea.europa.eu/Search\n",
    "\n",
    "Requirements for raster upload to JEDI: \n",
    "- pixel sizes in (10m, 100, 1000m or 10 000m) \n",
    "- projection: LAEA -EPSG3035 \n",
    "- datatype: INT8,UINT8,INT16 ant UINT16.\n",
    "- pixel nbit proberty:  NO nbits--> remove NBITS \n",
    "- Compression:  -co COMPRESS=JPEG -co TILED=YES\n",
    "- format: *.tif\n",
    "\n",
    "\n",
    "Every raster in the zip will be added as an attribute to the dimension.\n",
    "You can exclude values inside the JEDI website under the field options. Provide a value seperated list of all values you wish to exclude.\n",
    "The exclude will only work for INT8,UINT8,INT16 ant UINT16.\n",
    "\n",
    "So, there is a workaround in place:\n",
    "1. Create a zip with the same tifs but these must be clipped to a small area.\n",
    "This way the uploaded zip is small but enough to populate the schema in the db.\n",
    "2. When the dim is created (but not completed) send us the path to the real zip file and we will take care of it\n",
    "\n"
   ]
  },
  {
   "cell_type": "markdown",
   "metadata": {},
   "source": [
    "## (Tool 1 -A) small subset to prepare the jedi upload *using a small clip\n",
    "\n",
    "JEDI dataspace:  (\\\\cwsfileserver.eea.dmz1\\projects\\JEDI)\n",
    "M:\\f01_dims\\IMP\\IMP_100m_accounting\\SEALING_DENSITY_100m"
   ]
  },
  {
   "cell_type": "code",
   "execution_count": 1,
   "metadata": {},
   "outputs": [
    {
     "name": "stdout",
     "output_type": "stream",
     "text": [
      "START.................\n",
      "sealing_density_2018_100m_3035.tif\n",
      "gdalclip done\n",
      "next................................\n",
      "done\n",
      "M:\\f01_dims\\IMP\\IMP_100m_accounting\\SEALING_DENSITY_100m\\processing\\sealing_density_2018_100m_3035_clip.tif\n"
     ]
    }
   ],
   "source": [
    "# tool1 layerstack to single band\n",
    "import os, sys \n",
    "#import arcpy\n",
    "#from arcpy.sa import *\n",
    "\n",
    "from osgeo import gdal\n",
    "from osgeo import gdalconst\n",
    "from osgeo import osr\n",
    "\n",
    "from pathlib import Path\n",
    "import os\n",
    "import sys\n",
    "from datetime import datetime\n",
    "import multiprocessing\n",
    "import glob\n",
    "import zipfile\n",
    "import shutil  ## for zipping\n",
    "\n",
    "#L:\\f02_data\\GDMP\\input\\GDMP_100m\n",
    "# set data folder\n",
    "#sys.path.append(Path(os.getcwd()).parent.joinpath('src').as_posix())\n",
    "#sys.path.append(Path(os.getcwd()).joinpath('src').as_posix())\n",
    "#from constants import dir_signature\n",
    "\n",
    "###################################################################################################################################### SET\n",
    "#base_path = os.path.join(dir_signature, 'GDMP')\n",
    "#base_path_input = os.path.join(base_path, 'input','GDMP_100m') # , 'SOC_g_m2_90-21')   ###inputs\n",
    "#outzip = OutRas+'zip'\n",
    "\n",
    "input_folder =  r'M:\\f01_dims\\IMP\\IMP_100m_accounting\\SEALING_DENSITY_100m\\epsg3035'\n",
    "output_folder = r'M:\\f01_dims\\IMP\\IMP_100m_accounting\\SEALING_DENSITY_100m\\processing'\n",
    "\n",
    "\n",
    "\n",
    "zip_folder = output_folder\n",
    "raster_folder_with_final_raster_datasets = output_folder\n",
    "\n",
    "aoi_folder =r'M:\\f01_dims\\IMP\\IMP_100m_accounting\\SEALING_DENSITY_100m\\aoi'\n",
    "###############################################output info:Start \n",
    "pixel_type_info ='16_BIT_SIGNED'\n",
    "format_info = 'COG'\n",
    "NoData_info = -999\n",
    "###############################################output info:End\n",
    "\n",
    "# To allow overwriting outputs change overwriteOutput option to True.\n",
    "#rcpy.env.overwriteOutput = True\n",
    "#first_year = 1990  # to put the year into the raster name \n",
    "###################################################################################################################################### SET\n",
    "print (\"START.................\")\n",
    "\n",
    "with os.scandir(input_folder) as p:\n",
    "    for raster in p:\n",
    "        if  raster.name.endswith(\".tif\"): # Only show the files whose name ends with dot tif.\n",
    "            raster_file = os.path.join(input_folder, raster.name) # Get the full path of the raster, you'll need it in order to open the raster file and access its data. \n",
    "            #raster = gdal.Open(raster_file) # Open the current raster file.\n",
    "            raster_name = os.path.join(raster.name)\n",
    "            raster_output =output_folder+\"\\\\\"+raster_name.rsplit('.', maxsplit=1)[0]+'_clip.tif'\n",
    "\n",
    "            print (raster_name)\n",
    "          \n",
    "            #extent = (3015500,2933800,4014700,4071300)\n",
    "            \n",
    "\n",
    "            #upper_left_x = 699934.584491\n",
    "            #upper_left_y = 6169364.0093\n",
    "            #lower_right_x = 700160.946739\n",
    "            #lower_right_y = 6168703.00544\n",
    "            #window = (upper_left_x,upper_left_y,lower_right_x,lower_right_y)\n",
    "            window = (3015500,2933800,4014700,4071300)\n",
    "            gdal.Translate(raster_output, raster_file, projWin = window)\n",
    "            print(\"gdalclip done\")\n",
    "\n",
    "\n",
    "            print (\"next................................\")\n",
    "\n",
    "\n",
    "\n",
    "print (\"done\")\n",
    "\n",
    "print (raster_output)"
   ]
  },
  {
   "cell_type": "code",
   "execution_count": 10,
   "metadata": {},
   "outputs": [],
   "source": [
    "gdal.Translate(raster_output, raster_file, projWin = window)\n",
    "\n"
   ]
  },
  {
   "cell_type": "markdown",
   "metadata": {},
   "source": [
    "## (Tool 1 -B) FULL production of JEDI upload:"
   ]
  },
  {
   "cell_type": "code",
   "execution_count": null,
   "metadata": {},
   "outputs": [],
   "source": []
  }
 ],
 "metadata": {
  "kernelspec": {
   "display_name": "Python 3 (ipykernel)",
   "language": "python",
   "name": "python3"
  },
  "language_info": {
   "codemirror_mode": {
    "name": "ipython",
    "version": 3
   },
   "file_extension": ".py",
   "mimetype": "text/x-python",
   "name": "python",
   "nbconvert_exporter": "python",
   "pygments_lexer": "ipython3",
   "version": "3.9.16"
  }
 },
 "nbformat": 4,
 "nbformat_minor": 2
}
